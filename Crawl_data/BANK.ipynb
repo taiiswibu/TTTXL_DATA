{
 "cells": [
  {
   "cell_type": "code",
   "execution_count": 1,
   "metadata": {},
   "outputs": [
    {
     "name": "stdout",
     "output_type": "stream",
     "text": [
      "Mã CK: flc\n",
      "Giá: 3.50\n",
      "+/-: \n",
      "Khối lượng: \n",
      "Tham chiếu: 3.50\n",
      "Cao nhất: \n",
      "Thấp nhất: \n",
      "\n",
      "\n",
      "Mã CK: vpb\n",
      "Giá: 21.60\n",
      "+/-: 0.20\n",
      "Khối lượng: 11,693,200\n",
      "Tham chiếu: 21.40\n",
      "Cao nhất: 21.60\n",
      "Thấp nhất: 21.30\n",
      "\n",
      "\n",
      "Mã CK: pow\n",
      "Giá: 11.45\n",
      "+/-: 0.25\n",
      "Khối lượng: 5,117,300\n",
      "Tham chiếu: 11.20\n",
      "Cao nhất: 11.45\n",
      "Thấp nhất: 11.25\n",
      "\n",
      "\n",
      "Mã CK: tcb\n",
      "Giá: 32.50\n",
      "+/-: 0.40\n",
      "Khối lượng: 2,660,000\n",
      "Tham chiếu: 32.10\n",
      "Cao nhất: 32.65\n",
      "Thấp nhất: 32.25\n",
      "\n",
      "\n",
      "Mã CK: bsr\n",
      "Giá: 20.70\n",
      "+/-: 0.20\n",
      "Khối lượng: 11,108,600\n",
      "Tham chiếu: 20.50\n",
      "Cao nhất: 21.10\n",
      "Thấp nhất: 20.60\n",
      "\n",
      "\n",
      "Mã CK: hpg\n",
      "Giá: 26\n",
      "+/-: 0.50\n",
      "Khối lượng: 20,004,700\n",
      "Tham chiếu: 25.50\n",
      "Cao nhất: 26.25\n",
      "Thấp nhất: 25.60\n",
      "\n",
      "\n",
      "Mã CK: shb\n",
      "Giá: 10.85\n",
      "+/-: 0.10\n",
      "Khối lượng: 9,836,600\n",
      "Tham chiếu: 10.75\n",
      "Cao nhất: 11\n",
      "Thấp nhất: 10.80\n",
      "\n",
      "\n",
      "Mã CK: stb\n",
      "Giá: 31.25\n",
      "+/-: 0.05\n",
      "Khối lượng: 11,506,300\n",
      "Tham chiếu: 31.20\n",
      "Cao nhất: 31.65\n",
      "Thấp nhất: 31.25\n",
      "\n",
      "\n",
      "Mã CK: hqc\n",
      "Giá: 3.85\n",
      "+/-: 0.25\n",
      "Khối lượng: 7,905,500\n",
      "Tham chiếu: 3.60\n",
      "Cao nhất: 3.85\n",
      "Thấp nhất: 3.61\n",
      "\n",
      "\n",
      "Mã CK: lpb\n",
      "Giá: 14.15\n",
      "+/-: 0.05\n",
      "Khối lượng: 3,943,200\n",
      "Tham chiếu: 14.10\n",
      "Cao nhất: 14.20\n",
      "Thấp nhất: 14.05\n",
      "\n",
      "\n",
      "Mã CK: mbb\n",
      "Giá: 18.45\n",
      "+/-: 0.15\n",
      "Khối lượng: 7,369,700\n",
      "Tham chiếu: 18.30\n",
      "Cao nhất: 18.55\n",
      "Thấp nhất: 18.35\n",
      "\n",
      "\n",
      "Mã CK: msb\n",
      "Giá: 13.95\n",
      "+/-: 0.05\n",
      "Khối lượng: 4,990,400\n",
      "Tham chiếu: 13.90\n",
      "Cao nhất: 14.10\n",
      "Thấp nhất: 13.90\n",
      "\n",
      "\n",
      "Mã CK: gex\n",
      "Giá: 20.70\n",
      "+/-: 0.25\n",
      "Khối lượng: 17,464,400\n",
      "Tham chiếu: 20.45\n",
      "Cao nhất: 21.15\n",
      "Thấp nhất: 20.55\n",
      "\n",
      "\n",
      "Mã CK: hag\n",
      "Giá: 8.43\n",
      "+/-: -0.02\n",
      "Khối lượng: 11,612,000\n",
      "Tham chiếu: 8.45\n",
      "Cao nhất: 8.58\n",
      "Thấp nhất: 8.33\n",
      "\n",
      "\n",
      "Mã CK: nvl\n",
      "Giá: 14.20\n",
      "+/-: -0.15\n",
      "Khối lượng: 15,789,700\n",
      "Tham chiếu: 14.35\n",
      "Cao nhất: 14.75\n",
      "Thấp nhất: 14.20\n",
      "\n",
      "\n",
      "Mã CK: ssi\n",
      "Giá: 32.70\n",
      "+/-: -0.50\n",
      "Khối lượng: 27,779,700\n",
      "Tham chiếu: 33.20\n",
      "Cao nhất: 33.90\n",
      "Thấp nhất: 32.70\n",
      "\n",
      "\n",
      "Mã CK: vnd\n",
      "Giá: 21.40\n",
      "+/-: -0.20\n",
      "Khối lượng: 25,676,900\n",
      "Tham chiếu: 21.60\n",
      "Cao nhất: 21.95\n",
      "Thấp nhất: 21.35\n",
      "\n",
      "\n",
      "Mã CK: ita\n",
      "Giá: 5.82\n",
      "+/-: 0.09\n",
      "Khối lượng: 3,557,900\n",
      "Tham chiếu: 5.73\n",
      "Cao nhất: 5.88\n",
      "Thấp nhất: 5.76\n",
      "\n",
      "\n",
      "Mã CK: tch\n",
      "Giá: 11.95\n",
      "+/-: -0.25\n",
      "Khối lượng: 7,193,500\n",
      "Tham chiếu: 12.20\n",
      "Cao nhất: 12.45\n",
      "Thấp nhất: 11.95\n",
      "\n",
      "\n",
      "Mã CK: scr\n",
      "Giá: 7.11\n",
      "+/-: 0.13\n",
      "Khối lượng: 2,117,000\n",
      "Tham chiếu: 6.98\n",
      "Cao nhất: 7.15\n",
      "Thấp nhất: 7.05\n",
      "\n",
      "\n"
     ]
    },
    {
     "ename": "IndexError",
     "evalue": "list index out of range",
     "output_type": "error",
     "traceback": [
      "\u001b[1;31m---------------------------------------------------------------------------\u001b[0m",
      "\u001b[1;31mIndexError\u001b[0m                                Traceback (most recent call last)",
      "\u001b[1;32mc:\\Users\\Admin\\Desktop\\GKD\\Data-science-GitHub\\CRAWL_DATA_LEAN\\venv\\test\\BANK.ipynb Cell 1\u001b[0m line \u001b[0;36m2\n\u001b[0;32m     <a href='vscode-notebook-cell:/c%3A/Users/Admin/Desktop/GKD/Data-science-GitHub/CRAWL_DATA_LEAN/venv/test/BANK.ipynb#W0sZmlsZQ%3D%3D?line=23'>24</a>\u001b[0m thay_doi \u001b[39m=\u001b[39m cells[\u001b[39m2\u001b[39m]\u001b[39m.\u001b[39mtext\u001b[39m.\u001b[39mstrip()\n\u001b[0;32m     <a href='vscode-notebook-cell:/c%3A/Users/Admin/Desktop/GKD/Data-science-GitHub/CRAWL_DATA_LEAN/venv/test/BANK.ipynb#W0sZmlsZQ%3D%3D?line=24'>25</a>\u001b[0m khoi_luong \u001b[39m=\u001b[39m cells[\u001b[39m3\u001b[39m]\u001b[39m.\u001b[39mtext\u001b[39m.\u001b[39mstrip()\n\u001b[1;32m---> <a href='vscode-notebook-cell:/c%3A/Users/Admin/Desktop/GKD/Data-science-GitHub/CRAWL_DATA_LEAN/venv/test/BANK.ipynb#W0sZmlsZQ%3D%3D?line=25'>26</a>\u001b[0m tham_chieu \u001b[39m=\u001b[39m cells[\u001b[39m4\u001b[39;49m]\u001b[39m.\u001b[39mtext\u001b[39m.\u001b[39mstrip()\n\u001b[0;32m     <a href='vscode-notebook-cell:/c%3A/Users/Admin/Desktop/GKD/Data-science-GitHub/CRAWL_DATA_LEAN/venv/test/BANK.ipynb#W0sZmlsZQ%3D%3D?line=26'>27</a>\u001b[0m cao_nhat \u001b[39m=\u001b[39m cells[\u001b[39m5\u001b[39m]\u001b[39m.\u001b[39mtext\u001b[39m.\u001b[39mstrip()\n\u001b[0;32m     <a href='vscode-notebook-cell:/c%3A/Users/Admin/Desktop/GKD/Data-science-GitHub/CRAWL_DATA_LEAN/venv/test/BANK.ipynb#W0sZmlsZQ%3D%3D?line=27'>28</a>\u001b[0m thap_nhat \u001b[39m=\u001b[39m cells[\u001b[39m6\u001b[39m]\u001b[39m.\u001b[39mtext\u001b[39m.\u001b[39mstrip()\n",
      "\u001b[1;31mIndexError\u001b[0m: list index out of range"
     ]
    }
   ],
   "source": [
    "import requests\n",
    "from bs4 import BeautifulSoup\n",
    "\n",
    "# URL của trang web cần cấy dữ liệu\n",
    "url = \"https://www.cophieu68.vn/index.php\"\n",
    "\n",
    "# Gửi yêu cầu GET đến trang web và lấy nội dung\n",
    "response = requests.get(url)\n",
    "\n",
    "# Sử dụng BeautifulSoup để phân tích cú pháp HTML\n",
    "soup = BeautifulSoup(response.text, \"html.parser\")\n",
    "\n",
    "# Tìm tất cả các hàng (rows) trong bảng có class là \"stock_online\"\n",
    "col = soup.find_all(\"tr\", class_=\"stock_online\")\n",
    "\n",
    "# Duyệt qua từng hàng và trích xuất thông tin từ các cột\n",
    "for row in col:\n",
    "    # Trích xuất dữ liệu từ các cột\n",
    "    cells = row.find_all(\"td\")\n",
    "    \n",
    "    # Lấy dữ liệu từ các cột cụ thể bằng cách sử dụng index (0-6)\n",
    "    ma_ck = cells[0].text.strip()\n",
    "    gia = cells[1].text.strip()\n",
    "    thay_doi = cells[2].text.strip()\n",
    "    khoi_luong = cells[3].text.strip()\n",
    "    tham_chieu = cells[4].text.strip()\n",
    "    cao_nhat = cells[5].text.strip()\n",
    "    thap_nhat = cells[6].text.strip()\n",
    "    \n",
    "    # In thông tin từ các cột\n",
    "    print(f\"Mã CK: {ma_ck}\")\n",
    "    print(f\"Giá: {gia}\")\n",
    "    print(f\"+/-: {thay_doi}\")\n",
    "    print(f\"Khối lượng: {khoi_luong}\")\n",
    "    print(f\"Tham chiếu: {tham_chieu}\")\n",
    "    print(f\"Cao nhất: {cao_nhat}\")\n",
    "    print(f\"Thấp nhất: {thap_nhat}\")\n",
    "    print(\"\\n\")\n"
   ]
  },
  {
   "cell_type": "code",
   "execution_count": 2,
   "metadata": {},
   "outputs": [
    {
     "name": "stdout",
     "output_type": "stream",
     "text": [
      "Dữ liệu đã được lưu vào tệp DanhSachCoPhieuTrucTuyen.csv.\n"
     ]
    }
   ],
   "source": [
    "import csv\n",
    "\n",
    "# Dữ liệu đã được in ra màn hình\n",
    "data = [\n",
    "    [\"Mã CK\", \"Giá\", \"+/-\", \"Khối lượng\", \"Tham chiếu\", \"Cao nhất\", \"Thấp nhất\"],\n",
    "    [\"flc\", 3.50, None, None, 3.50, None, None],\n",
    "    [\"vpb\", 21.40, 0.45, 13601600, 20.95, 21.40, 20.75],\n",
    "    [\"pow\", 11.20, 0, 9548100, 11.20, 11.20, 11],\n",
    "    [\"tcb\", 32.10, 0.05, 2793700, 32.05, 32.15, 31.90],\n",
    "    [\"bsr\", 20.60, 1, 10607300, 19.60, 20.80, 20.30],\n",
    "    [\"hpg\", 25.50, 0.55, 11432000, 24.95, 25.60, 24.95],\n",
    "    [\"shb\", 10.75, 0.05, 8030100, 10.70, 10.80, 10.65],\n",
    "    [\"stb\", 31.20, 0.25, 9199800, 30.95, 31.30, 30.60],\n",
    "    [\"hqc\", 3.60, 0.01, 2928100, 3.59, 3.63, 3.56],\n",
    "    [\"lpb\", 14.10, 0.35, 2952100, 13.75, 14.10, 13.75],\n",
    "    [\"mbb\", 18.30, 0.15, 11157200, 18.15, 18.30, 18],\n",
    "    [\"msb\", 13.90, 0.05, 2941100, 13.85, 13.90, 13.75],\n",
    "    [\"gex\", 20.45, 0.10, 12226300, 20.35, 20.65, 20.05],\n",
    "    [\"hag\", 8.45, 0.25, 11439500, 8.20, 8.50, 8.09],\n",
    "    [\"nvl\", 14.35, 0.45, 14251500, 13.90, 14.45, 13.90],\n",
    "    [\"ssi\", 33.20, 0.25, 21954400, 32.95, 33.50, 32.40],\n",
    "    [\"vnd\", 21.60, 0.70, 22737700, 20.90, 21.85, 20.80],\n",
    "    [\"ita\", 5.73, 0.05, 1734400, 5.68, 5.75, 5.65],\n",
    "    [\"tch\", 12.20, 0.35, 9013200, 11.85, 12.35, 11.90],\n",
    "    [\"scr\", 6.98, 0.15, 1587300, 6.83, 6.99, 6.82],\n",
    "]\n",
    "\n",
    "# Tên tệp CSV để lưu\n",
    "file_name = \"DanhSachCoPhieuTrucTuyen.csv\"\n",
    "\n",
    "# Mở tệp CSV để ghi\n",
    "with open(file_name, mode='w', newline='') as file:\n",
    "    writer = csv.writer(file, delimiter=',', quotechar='\"', quoting=csv.QUOTE_MINIMAL)\n",
    "    \n",
    "    # Ghi tiêu đề cột vào tệp\n",
    "    writer.writerow(data[0])\n",
    "    \n",
    "    # Duyệt qua từng hàng dữ liệu và ghi vào tệp\n",
    "    for row in data[1:]:\n",
    "        writer.writerow(row)\n",
    "\n",
    "print(f\"Dữ liệu đã được lưu vào tệp {file_name}.\")\n"
   ]
  },
  {
   "cell_type": "code",
   "execution_count": 3,
   "metadata": {},
   "outputs": [],
   "source": [
    "import numpy as np\n",
    "import matplotlib.pyplot as plt\n",
    "import seaborn as sns\n",
    "import pandas as pd"
   ]
  },
  {
   "cell_type": "code",
   "execution_count": 5,
   "metadata": {},
   "outputs": [],
   "source": [
    "dataset = pd.read_csv('DanhSachCoPhieuTrucTuyen.csv')"
   ]
  },
  {
   "cell_type": "code",
   "execution_count": 6,
   "metadata": {},
   "outputs": [
    {
     "name": "stdout",
     "output_type": "stream",
     "text": [
      "<class 'pandas.core.frame.DataFrame'>\n",
      "RangeIndex: 20 entries, 0 to 19\n",
      "Data columns (total 7 columns):\n",
      " #   Column      Non-Null Count  Dtype  \n",
      "---  ------      --------------  -----  \n",
      " 0   Mã CK       20 non-null     object \n",
      " 1   Giá         20 non-null     float64\n",
      " 2   +/-         19 non-null     float64\n",
      " 3   Khối lượng  19 non-null     float64\n",
      " 4   Tham chiếu  20 non-null     float64\n",
      " 5   Cao nhất    19 non-null     float64\n",
      " 6   Thấp nhất   19 non-null     float64\n",
      "dtypes: float64(6), object(1)\n",
      "memory usage: 1.2+ KB\n"
     ]
    }
   ],
   "source": [
    "dataset.info()"
   ]
  },
  {
   "cell_type": "code",
   "execution_count": 10,
   "metadata": {},
   "outputs": [
    {
     "name": "stdout",
     "output_type": "stream",
     "text": [
      "   Mã CK    Giá   +/-  Khối lượng  Tham chiếu  Cao nhất  Thấp nhất\n",
      "0    flc   3.50   NaN         NaN        3.50       NaN        NaN\n",
      "1    vpb  21.40  0.45  13601600.0       20.95     21.40      20.75\n",
      "2    pow  11.20  0.00   9548100.0       11.20     11.20      11.00\n",
      "3    tcb  32.10  0.05   2793700.0       32.05     32.15      31.90\n",
      "4    bsr  20.60  1.00  10607300.0       19.60     20.80      20.30\n",
      "5    hpg  25.50  0.55  11432000.0       24.95     25.60      24.95\n",
      "6    shb  10.75  0.05   8030100.0       10.70     10.80      10.65\n",
      "7    stb  31.20  0.25   9199800.0       30.95     31.30      30.60\n",
      "8    hqc   3.60  0.01   2928100.0        3.59      3.63       3.56\n",
      "9    lpb  14.10  0.35   2952100.0       13.75     14.10      13.75\n",
      "10   mbb  18.30  0.15  11157200.0       18.15     18.30      18.00\n",
      "11   msb  13.90  0.05   2941100.0       13.85     13.90      13.75\n",
      "12   gex  20.45  0.10  12226300.0       20.35     20.65      20.05\n",
      "13   hag   8.45  0.25  11439500.0        8.20      8.50       8.09\n",
      "14   nvl  14.35  0.45  14251500.0       13.90     14.45      13.90\n",
      "15   ssi  33.20  0.25  21954400.0       32.95     33.50      32.40\n",
      "16   vnd  21.60  0.70  22737700.0       20.90     21.85      20.80\n",
      "17   ita   5.73  0.05   1734400.0        5.68      5.75       5.65\n",
      "18   tch  12.20  0.35   9013200.0       11.85     12.35      11.90\n",
      "19   scr   6.98  0.15   1587300.0        6.83      6.99       6.82\n"
     ]
    }
   ],
   "source": [
    "print(dataset)"
   ]
  },
  {
   "cell_type": "markdown",
   "metadata": {},
   "source": [
    "# Data Imputation (Missing Data Replacement)"
   ]
  },
  {
   "cell_type": "code",
   "execution_count": 11,
   "metadata": {},
   "outputs": [
    {
     "name": "stdout",
     "output_type": "stream",
     "text": [
      "Column: Mã CK has 0.0%\n",
      "Column: Giá has 0.0%\n",
      "Column: +/- has 5.0%\n",
      "Column: Khối lượng has 5.0%\n",
      "Column: Tham chiếu has 0.0%\n",
      "Column: Cao nhất has 5.0%\n",
      "Column: Thấp nhất has 5.0%\n"
     ]
    }
   ],
   "source": [
    "for i in dataset.columns:\n",
    "    missing_data = dataset[i].isna().sum() #isna() được sử dụng để kiểm tra giá trị NaN (not a number) trong dataframe.\n",
    "    perc = missing_data / len(dataset) * 100 #(missing_data/tổng hàng * 100 để làm tròn lên 100)\n",
    "    print(f\"Column: {i} has {perc}%\")"
   ]
  },
  {
   "cell_type": "code",
   "execution_count": 12,
   "metadata": {},
   "outputs": [
    {
     "data": {
      "text/plain": [
       "<Axes: >"
      ]
     },
     "execution_count": 12,
     "metadata": {},
     "output_type": "execute_result"
    },
    {
     "data": {
      "image/png": "[encoded data removed]",
      "text/plain": [
       "<Figure size 800x500 with 2 Axes>"
      ]
     },
     "metadata": {},
     "output_type": "display_data"
    }
   ],
   "source": [
    "fix, ax = plt.subplots(figsize=(8,5))\n",
    "sns.heatmap(dataset.isna()) #isna() được sử dụng để kiểm tra giá trị NaN (not a number) trong dataframe."
   ]
  },
  {
   "cell_type": "code",
   "execution_count": 13,
   "metadata": {},
   "outputs": [
    {
     "data": {
      "text/plain": [
       "<Axes: >"
      ]
     },
     "execution_count": 13,
     "metadata": {},
     "output_type": "execute_result"
    },
    {
     "data": {
      "image/png": "[encoded data removed]",
      "text/plain": [
       "<Figure size 800x500 with 1 Axes>"
      ]
     },
     "metadata": {},
     "output_type": "display_data"
    }
   ],
   "source": []
  },
  {
   "cell_type": "code",
   "execution_count": 14,
   "metadata": {},
   "outputs": [
    {
     "data": {
      "text/html": [
       "<div>\n",
       "<style scoped>\n",
       "    .dataframe tbody tr th:only-of-type {\n",
       "        vertical-align: middle;\n",
       "    }\n",
       "\n",
       "    .dataframe tbody tr th {\n",
       "        vertical-align: top;\n",
       "    }\n",
       "\n",
       "    .dataframe thead th {\n",
       "        text-align: right;\n",
       "    }\n",
       "</style>\n",
       "<table border=\"1\" class=\"dataframe\">\n",
       "  <thead>\n",
       "    <tr style=\"text-align: right;\">\n",
       "      <th></th>\n",
       "      <th>Mã CK</th>\n",
       "      <th>Giá</th>\n",
       "      <th>+/-</th>\n",
       "      <th>Khối lượng</th>\n",
       "      <th>Tham chiếu</th>\n",
       "      <th>Cao nhất</th>\n",
       "      <th>Thấp nhất</th>\n",
       "    </tr>\n",
       "  </thead>\n",
       "  <tbody>\n",
       "    <tr>\n",
       "      <th>0</th>\n",
       "      <td>flc</td>\n",
       "      <td>3.50</td>\n",
       "      <td>NaN</td>\n",
       "      <td>NaN</td>\n",
       "      <td>3.50</td>\n",
       "      <td>NaN</td>\n",
       "      <td>NaN</td>\n",
       "    </tr>\n",
       "    <tr>\n",
       "      <th>1</th>\n",
       "      <td>vpb</td>\n",
       "      <td>21.40</td>\n",
       "      <td>0.45</td>\n",
       "      <td>13601600.0</td>\n",
       "      <td>20.95</td>\n",
       "      <td>21.40</td>\n",
       "      <td>20.75</td>\n",
       "    </tr>\n",
       "    <tr>\n",
       "      <th>2</th>\n",
       "      <td>pow</td>\n",
       "      <td>11.20</td>\n",
       "      <td>0.00</td>\n",
       "      <td>9548100.0</td>\n",
       "      <td>11.20</td>\n",
       "      <td>11.20</td>\n",
       "      <td>11.00</td>\n",
       "    </tr>\n",
       "    <tr>\n",
       "      <th>3</th>\n",
       "      <td>tcb</td>\n",
       "      <td>32.10</td>\n",
       "      <td>0.05</td>\n",
       "      <td>2793700.0</td>\n",
       "      <td>32.05</td>\n",
       "      <td>32.15</td>\n",
       "      <td>31.90</td>\n",
       "    </tr>\n",
       "    <tr>\n",
       "      <th>4</th>\n",
       "      <td>bsr</td>\n",
       "      <td>20.60</td>\n",
       "      <td>1.00</td>\n",
       "      <td>10607300.0</td>\n",
       "      <td>19.60</td>\n",
       "      <td>20.80</td>\n",
       "      <td>20.30</td>\n",
       "    </tr>\n",
       "    <tr>\n",
       "      <th>5</th>\n",
       "      <td>hpg</td>\n",
       "      <td>25.50</td>\n",
       "      <td>0.55</td>\n",
       "      <td>11432000.0</td>\n",
       "      <td>24.95</td>\n",
       "      <td>25.60</td>\n",
       "      <td>24.95</td>\n",
       "    </tr>\n",
       "    <tr>\n",
       "      <th>6</th>\n",
       "      <td>shb</td>\n",
       "      <td>10.75</td>\n",
       "      <td>0.05</td>\n",
       "      <td>8030100.0</td>\n",
       "      <td>10.70</td>\n",
       "      <td>10.80</td>\n",
       "      <td>10.65</td>\n",
       "    </tr>\n",
       "    <tr>\n",
       "      <th>7</th>\n",
       "      <td>stb</td>\n",
       "      <td>31.20</td>\n",
       "      <td>0.25</td>\n",
       "      <td>9199800.0</td>\n",
       "      <td>30.95</td>\n",
       "      <td>31.30</td>\n",
       "      <td>30.60</td>\n",
       "    </tr>\n",
       "    <tr>\n",
       "      <th>8</th>\n",
       "      <td>hqc</td>\n",
       "      <td>3.60</td>\n",
       "      <td>0.01</td>\n",
       "      <td>2928100.0</td>\n",
       "      <td>3.59</td>\n",
       "      <td>3.63</td>\n",
       "      <td>3.56</td>\n",
       "    </tr>\n",
       "    <tr>\n",
       "      <th>9</th>\n",
       "      <td>lpb</td>\n",
       "      <td>14.10</td>\n",
       "      <td>0.35</td>\n",
       "      <td>2952100.0</td>\n",
       "      <td>13.75</td>\n",
       "      <td>14.10</td>\n",
       "      <td>13.75</td>\n",
       "    </tr>\n",
       "  </tbody>\n",
       "</table>\n",
       "</div>"
      ],
      "text/plain": [
       "  Mã CK    Giá   +/-  Khối lượng  Tham chiếu  Cao nhất  Thấp nhất\n",
       "0   flc   3.50   NaN         NaN        3.50       NaN        NaN\n",
       "1   vpb  21.40  0.45  13601600.0       20.95     21.40      20.75\n",
       "2   pow  11.20  0.00   9548100.0       11.20     11.20      11.00\n",
       "3   tcb  32.10  0.05   2793700.0       32.05     32.15      31.90\n",
       "4   bsr  20.60  1.00  10607300.0       19.60     20.80      20.30\n",
       "5   hpg  25.50  0.55  11432000.0       24.95     25.60      24.95\n",
       "6   shb  10.75  0.05   8030100.0       10.70     10.80      10.65\n",
       "7   stb  31.20  0.25   9199800.0       30.95     31.30      30.60\n",
       "8   hqc   3.60  0.01   2928100.0        3.59      3.63       3.56\n",
       "9   lpb  14.10  0.35   2952100.0       13.75     14.10      13.75"
      ]
     },
     "execution_count": 14,
     "metadata": {},
     "output_type": "execute_result"
    }
   ],
   "source": [
    " dataset.head(10)"
   ]
  },
  {
   "cell_type": "code",
   "execution_count": 20,
   "metadata": {},
   "outputs": [],
   "source": [
    "#convert the dataframe into a numpy array by calling values on my dataframe (not necessary), but a habit I prefer\n",
    "X= dataset.iloc[:, :].values #lấy tất cả hàng còn cột bỏ cột cuối\n"
   ]
  },
  {
   "cell_type": "code",
   "execution_count": 19,
   "metadata": {},
   "outputs": [
    {
     "data": {
      "text/plain": [
       "array([['flc', 3.5, nan, nan, 3.5, nan, nan],\n",
       "       ['vpb', 21.4, 0.45, 13601600.0, 20.95, 21.4, 20.75],\n",
       "       ['pow', 11.2, 0.0, 9548100.0, 11.2, 11.2, 11.0],\n",
       "       ['tcb', 32.1, 0.05, 2793700.0, 32.05, 32.15, 31.9],\n",
       "       ['bsr', 20.6, 1.0, 10607300.0, 19.6, 20.8, 20.3],\n",
       "       ['hpg', 25.5, 0.55, 11432000.0, 24.95, 25.6, 24.95],\n",
       "       ['shb', 10.75, 0.05, 8030100.0, 10.7, 10.8, 10.65],\n",
       "       ['stb', 31.2, 0.25, 9199800.0, 30.95, 31.3, 30.6],\n",
       "       ['hqc', 3.6, 0.01, 2928100.0, 3.59, 3.63, 3.56],\n",
       "       ['lpb', 14.1, 0.35, 2952100.0, 13.75, 14.1, 13.75],\n",
       "       ['mbb', 18.3, 0.15, 11157200.0, 18.15, 18.3, 18.0],\n",
       "       ['msb', 13.9, 0.05, 2941100.0, 13.85, 13.9, 13.75],\n",
       "       ['gex', 20.45, 0.1, 12226300.0, 20.35, 20.65, 20.05],\n",
       "       ['hag', 8.45, 0.25, 11439500.0, 8.2, 8.5, 8.09],\n",
       "       ['nvl', 14.35, 0.45, 14251500.0, 13.9, 14.45, 13.9],\n",
       "       ['ssi', 33.2, 0.25, 21954400.0, 32.95, 33.5, 32.4],\n",
       "       ['vnd', 21.6, 0.7, 22737700.0, 20.9, 21.85, 20.8],\n",
       "       ['ita', 5.73, 0.05, 1734400.0, 5.68, 5.75, 5.65],\n",
       "       ['tch', 12.2, 0.35, 9013200.0, 11.85, 12.35, 11.9],\n",
       "       ['scr', 6.98, 0.15, 1587300.0, 6.83, 6.99, 6.82]], dtype=object)"
      ]
     },
     "execution_count": 19,
     "metadata": {},
     "output_type": "execute_result"
    }
   ],
   "source": [
    "X"
   ]
  },
  {
   "cell_type": "code",
   "execution_count": 23,
   "metadata": {},
   "outputs": [],
   "source": [
    "from sklearn.impute import SimpleImputer\n",
    "\n",
    "#Create an instance of Class SimpleImputer: np.nan is the empty value in the dataset\n",
    "imputer = SimpleImputer(missing_values=np.nan, strategy='mean')\n",
    "\n",
    "#Replace missing value from numerical Col 1 'Age', Col 2 'Salary'\n",
    "#fit on the dataset to calculate the statistic for each column\n",
    "imputer.fit(X[:, 2:7]) # 1:3 là chỉ lấy Age và Salary\n",
    "\n",
    "#The fit imputer is then applied to the dataset \n",
    "# to create a copy of the dataset with all the missing values \n",
    "# for each column replaced with the calculated mean statistic.\n",
    "#transform will replace & return the new updated columns\n",
    "X[:, 2:7] = imputer.transform(X[:, 2:7]) "
   ]
  },
  {
   "cell_type": "code",
   "execution_count": 24,
   "metadata": {},
   "outputs": [
    {
     "data": {
      "text/plain": [
       "array([['flc', 3.5, 0.27421052631578946, 9480810.52631579, 3.5,\n",
       "        17.2221052631579, 16.779999999999998],\n",
       "       ['vpb', 21.4, 0.45, 13601600.0, 20.95, 21.4, 20.75],\n",
       "       ['pow', 11.2, 0.0, 9548100.0, 11.2, 11.2, 11.0],\n",
       "       ['tcb', 32.1, 0.05, 2793700.0, 32.05, 32.15, 31.9],\n",
       "       ['bsr', 20.6, 1.0, 10607300.0, 19.6, 20.8, 20.3],\n",
       "       ['hpg', 25.5, 0.55, 11432000.0, 24.95, 25.6, 24.95],\n",
       "       ['shb', 10.75, 0.05, 8030100.0, 10.7, 10.8, 10.65],\n",
       "       ['stb', 31.2, 0.25, 9199800.0, 30.95, 31.3, 30.6],\n",
       "       ['hqc', 3.6, 0.01, 2928100.0, 3.59, 3.63, 3.56],\n",
       "       ['lpb', 14.1, 0.35, 2952100.0, 13.75, 14.1, 13.75],\n",
       "       ['mbb', 18.3, 0.15, 11157200.0, 18.15, 18.3, 18.0],\n",
       "       ['msb', 13.9, 0.05, 2941100.0, 13.85, 13.9, 13.75],\n",
       "       ['gex', 20.45, 0.1, 12226300.0, 20.35, 20.65, 20.05],\n",
       "       ['hag', 8.45, 0.25, 11439500.0, 8.2, 8.5, 8.09],\n",
       "       ['nvl', 14.35, 0.45, 14251500.0, 13.9, 14.45, 13.9],\n",
       "       ['ssi', 33.2, 0.25, 21954400.0, 32.95, 33.5, 32.4],\n",
       "       ['vnd', 21.6, 0.7, 22737700.0, 20.9, 21.85, 20.8],\n",
       "       ['ita', 5.73, 0.05, 1734400.0, 5.68, 5.75, 5.65],\n",
       "       ['tch', 12.2, 0.35, 9013200.0, 11.85, 12.35, 11.9],\n",
       "       ['scr', 6.98, 0.15, 1587300.0, 6.83, 6.99, 6.82]], dtype=object)"
      ]
     },
     "execution_count": 24,
     "metadata": {},
     "output_type": "execute_result"
    }
   ],
   "source": [
    "X"
   ]
  },
  {
   "cell_type": "code",
   "execution_count": 25,
   "metadata": {},
   "outputs": [
    {
     "name": "stdout",
     "output_type": "stream",
     "text": [
      "Dữ liệu đã được lưu vào tệp DanhSachCoPhieuTrucTuyenclear.csv.\n"
     ]
    }
   ],
   "source": [
    "# Dữ liệu đã được in ra màn hình\n",
    "data = [\n",
    "    [\"Mã CK\", \"Giá\", \"+/-\", \"Khối lượng\", \"Tham chiếu\", \"Cao nhất\", \"Thấp nhất\"],\n",
    "    ['flc', 3.5, 0.27421052631578946, 9480810.52631579, 3.5,17.2221052631579, 16.779999999999998],\n",
    "       ['vpb', 21.4, 0.45, 13601600.0, 20.95, 21.4, 20.75],\n",
    "       ['pow', 11.2, 0.0, 9548100.0, 11.2, 11.2, 11.0],\n",
    "       ['tcb', 32.1, 0.05, 2793700.0, 32.05, 32.15, 31.9],\n",
    "       ['bsr', 20.6, 1.0, 10607300.0, 19.6, 20.8, 20.3],\n",
    "       ['hpg', 25.5, 0.55, 11432000.0, 24.95, 25.6, 24.95],\n",
    "       ['shb', 10.75, 0.05, 8030100.0, 10.7, 10.8, 10.65],\n",
    "       ['stb', 31.2, 0.25, 9199800.0, 30.95, 31.3, 30.6],\n",
    "       ['hqc', 3.6, 0.01, 2928100.0, 3.59, 3.63, 3.56],\n",
    "       ['lpb', 14.1, 0.35, 2952100.0, 13.75, 14.1, 13.75],\n",
    "       ['mbb', 18.3, 0.15, 11157200.0, 18.15, 18.3, 18.0],\n",
    "       ['msb', 13.9, 0.05, 2941100.0, 13.85, 13.9, 13.75],\n",
    "       ['gex', 20.45, 0.1, 12226300.0, 20.35, 20.65, 20.05],\n",
    "       ['hag', 8.45, 0.25, 11439500.0, 8.2, 8.5, 8.09],\n",
    "       ['nvl', 14.35, 0.45, 14251500.0, 13.9, 14.45, 13.9],\n",
    "       ['ssi', 33.2, 0.25, 21954400.0, 32.95, 33.5, 32.4],\n",
    "       ['vnd', 21.6, 0.7, 22737700.0, 20.9, 21.85, 20.8],\n",
    "       ['ita', 5.73, 0.05, 1734400.0, 5.68, 5.75, 5.65],\n",
    "       ['tch', 12.2, 0.35, 9013200.0, 11.85, 12.35, 11.9],\n",
    "       ['scr', 6.98, 0.15, 1587300.0, 6.83, 6.99, 6.82],\n",
    "]\n",
    "\n",
    "# Tên tệp CSV để lưu\n",
    "file_name = \"DanhSachCoPhieuTrucTuyenclear.csv\"\n",
    "\n",
    "# Mở tệp CSV để ghi\n",
    "with open(file_name, mode='w', newline='') as file:\n",
    "    writer = csv.writer(file, delimiter=',', quotechar='\"', quoting=csv.QUOTE_MINIMAL)\n",
    "    \n",
    "    # Ghi tiêu đề cột vào tệp\n",
    "    writer.writerow(data[0])\n",
    "    \n",
    "    # Duyệt qua từng hàng dữ liệu và ghi vào tệp\n",
    "    for row in data[1:]:\n",
    "        writer.writerow(row)\n",
    "\n",
    "print(f\"Dữ liệu đã được lưu vào tệp {file_name}.\")"
   ]
  },
  {
   "cell_type": "code",
   "execution_count": null,
   "metadata": {},
   "outputs": [],
   "source": []
  }
 ],
 "metadata": {
  "kernelspec": {
   "display_name": "base",
   "language": "python",
   "name": "python3"
  },
  "language_info": {
   "codemirror_mode": {
    "name": "ipython",
    "version": 3
   },
   "file_extension": ".py",
   "mimetype": "text/x-python",
   "name": "python",
   "nbconvert_exporter": "python",
   "pygments_lexer": "ipython3",
   "version": "3.10.9"
  },
  "orig_nbformat": 4
 },
 "nbformat": 4,
 "nbformat_minor": 2
}
