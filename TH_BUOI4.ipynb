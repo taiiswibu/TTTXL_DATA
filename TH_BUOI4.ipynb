{
 "cells": [
  {
   "cell_type": "code",
   "execution_count": null,
   "metadata": {},
   "outputs": [
    {
     "ename": "",
     "evalue": "",
     "output_type": "error",
     "traceback": [
      "\u001b[1;31mRunning cells with 'venv' requires the ipykernel package.\n",
      "\u001b[1;31mRun the following command to install 'ipykernel' into the Python environment. \n",
      "\u001b[1;31mCommand: 'd:/Code/Python/TH_TXLDL/venv/Scripts/python.exe -m pip install ipykernel -U --force-reinstall'"
     ]
    }
   ],
   "source": [
    "import os\n",
    "import cv2  # Để đọc hình ảnh, bạn có thể sử dụng thư viện khác tùy thuộc vào định dạng của dữ liệu\n",
    "\n",
    "\n",
    "def load_data_from_folder(folder_path):\n",
    "    data = []\n",
    "    labels = []\n",
    "\n",
    "    for filename in os.listdir(folder_path):\n",
    "        img_path = os.path.join(folder_path, filename)\n",
    "        \n",
    "        # Xử lý dữ liệu tùy thuộc vào định dạng, ở đây mình sử dụng OpenCV cho hình ảnh\n",
    "        img = cv2.imread(img_path)\n",
    "        \n",
    "        # Thêm dữ liệu và nhãn vào danh sách\n",
    "        data.append(img)\n",
    "        labels.append(label_from_filename(filename))  # Bạn cần định nghĩa hàm label_from_filename\n",
    "\n",
    "    return data, labels\n"
   ]
  }
 ],
 "metadata": {
  "kernelspec": {
   "display_name": "venv",
   "language": "python",
   "name": "python3"
  },
  "language_info": {
   "name": "python",
   "version": "3.10.0"
  }
 },
 "nbformat": 4,
 "nbformat_minor": 2
}
